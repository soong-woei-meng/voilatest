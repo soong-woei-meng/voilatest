{
 "cells": [
  {
   "cell_type": "code",
   "execution_count": 21,
   "metadata": {},
   "outputs": [],
   "source": [
    "import numpy as np\n",
    "import pandas as pd\n",
    "import ipywidgets as widgets\n",
    "\n"
   ]
  },
  {
   "cell_type": "code",
   "execution_count": 128,
   "metadata": {},
   "outputs": [],
   "source": [
    "\n",
    "style = {'description_width': 'initial'}\n",
    "\n",
    "m = widgets.BoundedIntText(\n",
    "    description='Movie_id: ',\n",
    "    value = 10\n",
    ")"
   ]
  },
  {
   "cell_type": "code",
   "execution_count": 162,
   "metadata": {},
   "outputs": [],
   "source": [
    "# Function to print top N similar movies\n",
    "def print_similar_movies(movieID):\n",
    "    movie_data = pd.read_csv(\"movie_data.csv\")\n",
    "    movie_name = {}\n",
    "    for i in range(len(movie_data.movie_id)):\n",
    "        movie_name[movie_data.movie_id[i]] = movie_data.title[i]\n",
    "    sliced = pd.read_csv(\"sliced.csv\")\n",
    "    sliced = sliced.to_numpy()\n",
    "    index = movieID - 1 # Movie id starts from 1 in the dataset\n",
    "    movie_row = sliced[index, :]\n",
    "    magnitude = np.sqrt(np.einsum('ij, ij -> i', sliced, sliced))\n",
    "    similarity = np.dot(movie_row, sliced.T) / (magnitude[index] * magnitude)\n",
    "    sort_indexes = np.argsort(-similarity)\n",
    "    indexes = sort_indexes[:10] \n",
    "    movie_list = {}\n",
    "    print(f\"\"\"    \n",
    "    Hope you enjoy {movie_name[movieID]}\n",
    "    \n",
    "    Guess you like \n",
    "    \"\"\")\n",
    "    b = movie_data.loc[indexes]\n",
    "    \n",
    "    print(b[[\"movie_id\",\"title\",\"genre\"]])\n",
    "    print(\"\"\"\n",
    "    \n",
    "    \n",
    "    Please insert movie id in the box\"\"\")\n",
    "    "
   ]
  },
  {
   "cell_type": "code",
   "execution_count": 163,
   "metadata": {},
   "outputs": [],
   "source": [
    "a = widgets.interactive(print_similar_movies, movieID = m)"
   ]
  },
  {
   "cell_type": "code",
   "execution_count": 164,
   "metadata": {},
   "outputs": [
    {
     "data": {
      "application/vnd.jupyter.widget-view+json": {
       "model_id": "847faf9cfd8e41b1a9d3218f5aabd547",
       "version_major": 2,
       "version_minor": 0
      },
      "text/plain": [
       "interactive(children=(BoundedIntText(value=96, description='Movie_id: '), Output()), _dom_classes=('widget-int…"
      ]
     },
     "metadata": {},
     "output_type": "display_data"
    }
   ],
   "source": [
    "a"
   ]
  }
 ],
 "metadata": {
  "kernelspec": {
   "display_name": "Python 3",
   "language": "python",
   "name": "python3"
  },
  "language_info": {
   "codemirror_mode": {
    "name": "ipython",
    "version": 3
   },
   "file_extension": ".py",
   "mimetype": "text/x-python",
   "name": "python",
   "nbconvert_exporter": "python",
   "pygments_lexer": "ipython3",
   "version": "3.8.3"
  }
 },
 "nbformat": 4,
 "nbformat_minor": 4
}
